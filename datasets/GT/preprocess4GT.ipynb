{
 "cells": [
  {
   "cell_type": "code",
   "execution_count": 4,
   "metadata": {},
   "outputs": [],
   "source": [
    "import numpy as np\n",
    "\n",
    "fname = './uspshw'\n",
    "\n",
    "d = np.loadtxt('.'+fname, delimiter=' ')\n",
    "\n",
    "def normalize_to_int(data, int_range=255):\n",
    "\n",
    "    col_min = np.min(data, axis=0)\n",
    "    col_max = np.max(data, axis=0)\n",
    "    \n",
    "\n",
    "    normalized_data = (data - col_min) / (col_max - col_min + 1e-8)\n",
    "    \n",
    "\n",
    "    int_data = np.rint(normalized_data * int_range).astype(int)\n",
    "    \n",
    "    return int_data\n",
    "\n",
    "d1 = normalize_to_int(d, int_range=255)\n",
    "\n",
    "num_rows, num_cols = d1.shape\n",
    "\n",
    "row_numbers = np.arange(0, num_rows).reshape(-1, 1)  \n",
    "data_with_row_numbers = np.hstack((row_numbers, d1))  \n",
    "\n",
    "with open(fname,'w') as f:\n",
    "    f.write(f\"{num_rows} {num_cols}\\n\")\n",
    "    np.savetxt(f, data_with_row_numbers, delimiter=' ', fmt='%d')"
   ]
  },
  {
   "cell_type": "code",
   "execution_count": 4,
   "metadata": {},
   "outputs": [
    {
     "data": {
      "text/plain": [
       "(9948, 3)"
      ]
     },
     "execution_count": 4,
     "metadata": {},
     "output_type": "execute_result"
    }
   ],
   "source": [
    "d.shape"
   ]
  }
 ],
 "metadata": {
  "kernelspec": {
   "display_name": "Python 3",
   "language": "python",
   "name": "python3"
  },
  "language_info": {
   "codemirror_mode": {
    "name": "ipython",
    "version": 3
   },
   "file_extension": ".py",
   "mimetype": "text/x-python",
   "name": "python",
   "nbconvert_exporter": "python",
   "pygments_lexer": "ipython3",
   "version": "3.12.5"
  },
  "orig_nbformat": 4
 },
 "nbformat": 4,
 "nbformat_minor": 2
}
